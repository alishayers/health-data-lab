{
 "cells": [
  {
   "cell_type": "code",
   "execution_count": 5,
   "id": "863b8b51-1265-48d4-93d6-2fd26caf61f3",
   "metadata": {},
   "outputs": [
    {
     "name": "stdout",
     "output_type": "stream",
     "text": [
      "{'category': [{'coding': [{'code': 'laboratory',\n",
      "                           'display': 'laboratory',\n",
      "                           'system': 'http://terminology.hl7.org/CodeSystem/observation-category'}]}],\n",
      " 'code': {'coding': [{'code': '2093-3',\n",
      "                      'display': 'Total Cholesterol',\n",
      "                      'system': 'http://loinc.org'}],\n",
      "          'text': 'Total Cholesterol'},\n",
      " 'effectiveDateTime': '2017-05-27T15:45:08+02:00',\n",
      " 'encounter': {'reference': 'Encounter/598187'},\n",
      " 'id': '598193',\n",
      " 'issued': '2017-05-27T15:45:08.132+02:00',\n",
      " 'meta': {'lastUpdated': '2020-02-06T13:54:01.532+00:00',\n",
      "          'source': '#EF8l4i0AB5VVT4EV',\n",
      "          'versionId': '1'},\n",
      " 'resourceType': 'Observation',\n",
      " 'status': 'final',\n",
      " 'subject': {'reference': 'Patient/597991'},\n",
      " 'valueQuantity': {'code': 'mg/dL',\n",
      "                   'system': 'http://unitsofmeasure.org',\n",
      "                   'unit': 'mg/dL',\n",
      "                   'value': 168.69}}\n"
     ]
    }
   ],
   "source": [
    "import requests\n",
    "import json\n",
    "from pprint import pprint\n",
    "import requests\n",
    "from pprint import pprint\n",
    "\n",
    "url = \"https://hapi.fhir.org/baseR4/Observation?code=2093-3&_count=2\"\n",
    "response = requests.get(url)\n",
    "data = response.json()\n",
    "pprint(data[\"entry\"][0][\"resource\"])\n"
   ]
  },
  {
   "cell_type": "code",
   "execution_count": null,
   "id": "dde54e44-c081-421c-9f3e-c31128643054",
   "metadata": {},
   "outputs": [],
   "source": []
  },
  {
   "cell_type": "code",
   "execution_count": null,
   "id": "64fe123d-231d-408e-ba72-ed934c2f3870",
   "metadata": {},
   "outputs": [],
   "source": []
  }
 ],
 "metadata": {
  "kernelspec": {
   "display_name": "Python [conda env:base] *",
   "language": "python",
   "name": "conda-base-py"
  },
  "language_info": {
   "codemirror_mode": {
    "name": "ipython",
    "version": 3
   },
   "file_extension": ".py",
   "mimetype": "text/x-python",
   "name": "python",
   "nbconvert_exporter": "python",
   "pygments_lexer": "ipython3",
   "version": "3.12.7"
  }
 },
 "nbformat": 4,
 "nbformat_minor": 5
}
